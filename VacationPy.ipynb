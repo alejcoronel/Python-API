{
 "cells": [
  {
   "cell_type": "markdown",
   "metadata": {},
   "source": [
    "# VacationPy\n",
    "----\n",
    "\n",
    "#### Note\n",
    "* Instructions have been included for each segment. You do not have to follow them exactly, but they are included to help you think through the steps."
   ]
  },
  {
   "cell_type": "code",
   "execution_count": 11,
   "metadata": {},
   "outputs": [],
   "source": [
    "# Dependencies and Setup\n",
    "import matplotlib.pyplot as plt\n",
    "import pandas as pd\n",
    "import numpy as np\n",
    "import requests\n",
    "import gmaps\n",
    "import os\n",
    "\n",
    "# Import API key\n",
    "from api_keys import g_key\n"
   ]
  },
  {
   "cell_type": "markdown",
   "metadata": {},
   "source": [
    "### Store Part I results into DataFrame\n",
    "* Load the csv exported in Part I to a DataFrame"
   ]
  },
  {
   "cell_type": "code",
   "execution_count": 12,
   "metadata": {},
   "outputs": [
    {
     "data": {
      "text/html": [
       "<div>\n",
       "<style scoped>\n",
       "    .dataframe tbody tr th:only-of-type {\n",
       "        vertical-align: middle;\n",
       "    }\n",
       "\n",
       "    .dataframe tbody tr th {\n",
       "        vertical-align: top;\n",
       "    }\n",
       "\n",
       "    .dataframe thead th {\n",
       "        text-align: right;\n",
       "    }\n",
       "</style>\n",
       "<table border=\"1\" class=\"dataframe\">\n",
       "  <thead>\n",
       "    <tr style=\"text-align: right;\">\n",
       "      <th></th>\n",
       "      <th>Unnamed: 0</th>\n",
       "      <th>City</th>\n",
       "      <th>Cloudiness</th>\n",
       "      <th>Country</th>\n",
       "      <th>Date</th>\n",
       "      <th>Humidity</th>\n",
       "      <th>Lat</th>\n",
       "      <th>Lng</th>\n",
       "      <th>Max Temp</th>\n",
       "      <th>Wind Speed</th>\n",
       "    </tr>\n",
       "  </thead>\n",
       "  <tbody>\n",
       "    <tr>\n",
       "      <td>0</td>\n",
       "      <td>0</td>\n",
       "      <td>hermiston</td>\n",
       "      <td>75</td>\n",
       "      <td>US</td>\n",
       "      <td>1587240622</td>\n",
       "      <td>30</td>\n",
       "      <td>45.84</td>\n",
       "      <td>-119.29</td>\n",
       "      <td>68.00</td>\n",
       "      <td>16.11</td>\n",
       "    </tr>\n",
       "    <tr>\n",
       "      <td>1</td>\n",
       "      <td>1</td>\n",
       "      <td>nishihara</td>\n",
       "      <td>1</td>\n",
       "      <td>JP</td>\n",
       "      <td>1587240622</td>\n",
       "      <td>94</td>\n",
       "      <td>26.18</td>\n",
       "      <td>127.76</td>\n",
       "      <td>71.60</td>\n",
       "      <td>5.82</td>\n",
       "    </tr>\n",
       "    <tr>\n",
       "      <td>2</td>\n",
       "      <td>2</td>\n",
       "      <td>ushuaia</td>\n",
       "      <td>75</td>\n",
       "      <td>AR</td>\n",
       "      <td>1587240622</td>\n",
       "      <td>69</td>\n",
       "      <td>-54.80</td>\n",
       "      <td>-68.30</td>\n",
       "      <td>50.00</td>\n",
       "      <td>18.34</td>\n",
       "    </tr>\n",
       "    <tr>\n",
       "      <td>3</td>\n",
       "      <td>3</td>\n",
       "      <td>kawalu</td>\n",
       "      <td>100</td>\n",
       "      <td>ID</td>\n",
       "      <td>1587240623</td>\n",
       "      <td>76</td>\n",
       "      <td>-7.38</td>\n",
       "      <td>108.21</td>\n",
       "      <td>72.61</td>\n",
       "      <td>1.68</td>\n",
       "    </tr>\n",
       "    <tr>\n",
       "      <td>4</td>\n",
       "      <td>4</td>\n",
       "      <td>inuvik</td>\n",
       "      <td>75</td>\n",
       "      <td>CA</td>\n",
       "      <td>1587240546</td>\n",
       "      <td>73</td>\n",
       "      <td>68.35</td>\n",
       "      <td>-133.72</td>\n",
       "      <td>19.40</td>\n",
       "      <td>12.75</td>\n",
       "    </tr>\n",
       "  </tbody>\n",
       "</table>\n",
       "</div>"
      ],
      "text/plain": [
       "   Unnamed: 0       City  Cloudiness Country        Date  Humidity    Lat  \\\n",
       "0           0  hermiston          75      US  1587240622        30  45.84   \n",
       "1           1  nishihara           1      JP  1587240622        94  26.18   \n",
       "2           2    ushuaia          75      AR  1587240622        69 -54.80   \n",
       "3           3     kawalu         100      ID  1587240623        76  -7.38   \n",
       "4           4     inuvik          75      CA  1587240546        73  68.35   \n",
       "\n",
       "      Lng  Max Temp  Wind Speed  \n",
       "0 -119.29     68.00       16.11  \n",
       "1  127.76     71.60        5.82  \n",
       "2  -68.30     50.00       18.34  \n",
       "3  108.21     72.61        1.68  \n",
       "4 -133.72     19.40       12.75  "
      ]
     },
     "execution_count": 12,
     "metadata": {},
     "output_type": "execute_result"
    }
   ],
   "source": [
    "#Load weather csv\n",
    "#made dataframe \n",
    "weather = \"weather_df.csv\"\n",
    "weather_df = pd.read_csv(weather)\n",
    "weather_df.head()"
   ]
  },
  {
   "cell_type": "markdown",
   "metadata": {},
   "source": [
    "### Humidity Heatmap\n",
    "* Configure gmaps.\n",
    "* Use the Lat and Lng as locations and Humidity as the weight.\n",
    "* Add Heatmap layer to map."
   ]
  },
  {
   "cell_type": "code",
   "execution_count": 13,
   "metadata": {},
   "outputs": [
    {
     "data": {
      "application/vnd.jupyter.widget-view+json": {
       "model_id": "1ddd82dedc2a4747b8ea34435bc4f369",
       "version_major": 2,
       "version_minor": 0
      },
      "text/plain": [
       "Figure(layout=FigureLayout(height='420px'))"
      ]
     },
     "metadata": {},
     "output_type": "display_data"
    }
   ],
   "source": [
    "#Gmaps configure\n",
    "gmaps.configure(api_key=g_key)\n",
    "\n",
    "locations = weather_df[[\"Lat\", \"Lng\"]]\n",
    "humidity = weather_df[\"Humidity\"].astype(float)\n",
    "humidity_max = weather_df[\"Humidity\"].max()\n",
    "\n",
    "#Add Heatmap\n",
    "fig = gmaps.figure(center=(25,0), zoom_level=1.75)\n",
    "hlayer = gmaps.heatmap_layer(locations, weights=humidity, max_intensity=humidity_max)\n",
    "fig.add_layer(hlayer)\n",
    "fig\n",
    "\n"
   ]
  },
  {
   "cell_type": "markdown",
   "metadata": {},
   "source": [
    "### Create new DataFrame fitting weather criteria\n",
    "* Narrow down the cities to fit weather conditions.\n",
    "* Drop any rows will null values."
   ]
  },
  {
   "cell_type": "code",
   "execution_count": 14,
   "metadata": {},
   "outputs": [],
   "source": [
    "#Narrow Weather Conditions \n",
    "heat_df = weather_df.loc[(weather_df[\"Max Temp\"] <80) & (weather_df[\"Wind Speed\"]<2) &\n",
    "                        (weather_df[\"Cloudiness\"]<10)]"
   ]
  },
  {
   "cell_type": "markdown",
   "metadata": {},
   "source": [
    "### Hotel Map\n",
    "* Store into variable named `hotel_df`.\n",
    "* Add a \"Hotel Name\" column to the DataFrame.\n",
    "* Set parameters to search for hotels with 5000 meters.\n",
    "* Hit the Google Places API for each city's coordinates.\n",
    "* Store the first Hotel result into the DataFrame.\n",
    "* Plot markers on top of the heatmap."
   ]
  },
  {
   "cell_type": "code",
   "execution_count": 15,
   "metadata": {},
   "outputs": [],
   "source": [
    "hotel_df = heat_df.copy()\n",
    "hotel_df = hotel_df.reset_index()\n",
    "del hotel_df[\"index\"]\n",
    "hotel_df[\"Hotel\"] = \"\"\n",
    "hotel_df\n",
    "\n",
    "latitude = hotel_df[\"Lat\"]\n",
    "longitude = hotel_df[\"Lng\"]\n",
    "list_h = len(hotel_df)"
   ]
  },
  {
   "cell_type": "code",
   "execution_count": 16,
   "metadata": {},
   "outputs": [
    {
     "name": "stdout",
     "output_type": "stream",
     "text": [
      "Nearest hotel: Crossroads Hotel\n",
      "No options available\n",
      "Nearest hotel: Shengshi International Hotel\n",
      "Nearest hotel: Sarnai restaurant&hotel\n",
      "Nearest hotel: Hotel Camp Reinsehlen\n",
      "Nearest hotel: Tokyu Harvest Club Katsuura\n",
      "Nearest hotel: Hotel Antirrio\n",
      "Nearest hotel: Hotel Apollon\n"
     ]
    }
   ],
   "source": [
    "for i in range(list_h):\n",
    "    base_url = \"https://maps.googleapis.com/maps/api/place/nearbysearch/json\"\n",
    "    params = {\n",
    "        \"location\": f\"{latitude[i]},{longitude[i]}\",\n",
    "        \"radius\": 5000,\n",
    "        \"types\": \"lodging\",\n",
    "        \"keyword\": \"Hotel\",\n",
    "        \"key\": g_key\n",
    "    }\n",
    "    response = requests.get(base_url, params=params).json()\n",
    "    try: \n",
    "        results = response[\"results\"][i][\"name\"]\n",
    "        print(f\"Nearest hotel: {results}\")\n",
    "        hotel_df.loc[hotel_df[\"City\"] == hotel_df[\"City\"][i], \"Hotel Name\"] = results\n",
    "    except IndexError:\n",
    "        print(\"No options available\")"
   ]
  },
  {
   "cell_type": "code",
   "execution_count": 17,
   "metadata": {},
   "outputs": [],
   "source": [
    "# NOTE: Do not change any of the code in this cell\n",
    "\n",
    "# Using the template add the hotel marks to the heatmap\n",
    "info_box_template = \"\"\"\n",
    "<dl>\n",
    "<dt>Name</dt><dd>{Hotel Name}</dd>\n",
    "<dt>City</dt><dd>{City}</dd>\n",
    "<dt>Country</dt><dd>{Country}</dd>\n",
    "</dl>\n",
    "\"\"\"\n",
    "# Store the DataFrame Row\n",
    "# NOTE: be sure to update with your DataFrame name\n",
    "hotel_info = [info_box_template.format(**row) for index, row in hotel_df.iterrows()]\n",
    "locations = hotel_df[[\"Lat\", \"Lng\"]]"
   ]
  },
  {
   "cell_type": "code",
   "execution_count": 19,
   "metadata": {},
   "outputs": [
    {
     "data": {
      "application/vnd.jupyter.widget-view+json": {
       "model_id": "1ddd82dedc2a4747b8ea34435bc4f369",
       "version_major": 2,
       "version_minor": 0
      },
      "text/plain": [
       "Figure(layout=FigureLayout(height='420px'))"
      ]
     },
     "metadata": {},
     "output_type": "display_data"
    }
   ],
   "source": [
    "# Add marker layer ontop of heat map\n",
    "\n",
    "markers = gmaps.marker_layer(locations, info_box_content= hotel_info)\n",
    "fig.add_layer(markers)\n",
    "fig\n",
    "\n",
    "\n",
    "# Display Map"
   ]
  },
  {
   "cell_type": "code",
   "execution_count": null,
   "metadata": {},
   "outputs": [],
   "source": []
  }
 ],
 "metadata": {
  "kernelspec": {
   "display_name": "Python 3",
   "language": "python",
   "name": "python3"
  },
  "language_info": {
   "codemirror_mode": {
    "name": "ipython",
    "version": 3
   },
   "file_extension": ".py",
   "mimetype": "text/x-python",
   "name": "python",
   "nbconvert_exporter": "python",
   "pygments_lexer": "ipython3",
   "version": "3.7.4"
  },
  "latex_envs": {
   "LaTeX_envs_menu_present": true,
   "autoclose": false,
   "autocomplete": true,
   "bibliofile": "biblio.bib",
   "cite_by": "apalike",
   "current_citInitial": 1,
   "eqLabelWithNumbers": true,
   "eqNumInitial": 1,
   "hotkeys": {
    "equation": "Ctrl-E",
    "itemize": "Ctrl-I"
   },
   "labels_anchors": false,
   "latex_user_defs": false,
   "report_style_numbering": false,
   "user_envs_cfg": false
  }
 },
 "nbformat": 4,
 "nbformat_minor": 2
}
